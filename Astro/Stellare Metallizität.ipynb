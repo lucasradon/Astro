{
 "cells": [
  {
   "cell_type": "markdown",
   "id": "2ca07842-b8eb-4bae-b993-bf880d4ddadd",
   "metadata": {},
   "source": [
    "<h3>Definition</h3>\n",
    "Verhältnis Eisen/Wasserstoff der Sonne = 0\n",
    "\n",
    "log_10(Fe/H) der Sonne = -4,33\n"
   ]
  },
  {
   "cell_type": "code",
   "execution_count": 29,
   "id": "60a58056-8865-4231-8d11-d245f8ea48eb",
   "metadata": {
    "tags": []
   },
   "outputs": [
    {
     "name": "stdout",
     "output_type": "stream",
     "text": [
      "[Fe/H]Stern = log10((FeH)Stern/(FeH)Sonne)\n",
      "<=> [Fe/H]Stern = log10((FeH)Stern) - log10((FeH)Sonne))\n",
      "<=> [Fe/H]Stern = log10((FeH)Stern) - log10((FeH)Sonne))\n",
      "<=> log10((FeH)Stern) = [Fe/H]Stern + log10((FeH)Sonne))\n",
      "<=> log10((FeH)Stern) = -2 + -4.33 )\n",
      "<=> log10((FeH)Stern) =  -6.33\n",
      "<=> log10((FeH)Stern) = 10^ -6.33\n",
      "<=> log10((FeH)Stern) =  4.677351412871981e-07\n",
      "<=> log10((FeH)Stern) =  0.0 %\n"
     ]
    }
   ],
   "source": [
    "#Welchen Masseanteil hat Eisen im Vergleich zu Wasserstoff bei einem +1 Stern\n",
    "def stellare_metallizitaet(eFeHStern):\n",
    "    rFeHSonne=-4.33;\n",
    "    print(\"[Fe/H]Stern = log10((FeH)Stern/(FeH)Sonne)\" )\n",
    "    print(\"<=> [Fe/H]Stern = log10((FeH)Stern) - log10((FeH)Sonne))\" )\n",
    "    print(\"<=> [Fe/H]Stern = log10((FeH)Stern) - log10((FeH)Sonne))\" )\n",
    "    print(\"<=> log10((FeH)Stern) = [Fe/H]Stern + log10((FeH)Sonne))\" )\n",
    "    print(\"<=> log10((FeH)Stern) = {} + {} )\".format(eFeHStern,rFeHSonne))\n",
    "    print(\"<=> log10((FeH)Stern) = \", eFeHStern + rFeHSonne)\n",
    "    print(\"<=> log10((FeH)Stern) = 10^\", eFeHStern + rFeHSonne)\n",
    "    print(\"<=> log10((FeH)Stern) = \", (10**(eFeHStern + rFeHSonne)))\n",
    "    print(\"<=> log10((FeH)Stern) = \", round((10**(eFeHStern + rFeHSonne))*100,4),\"%\")\n",
    "    \n",
    "stellare_metallizitaet(-2)"
   ]
  },
  {
   "cell_type": "markdown",
   "id": "3be284ec-72bf-4fe8-a9c4-e04d34f8a3eb",
   "metadata": {},
   "source": [
    "In der Milchstraße existieren Sterne mit -5,4 <= [Fe/H] <= +0,6\n",
    "\n",
    "Population I   z\\~ 0.02  \"metallreiche Sterne\" -> jüngere Sterne <br>\n",
    "Population II  z\\~ 0.001 \"metallarme Sterne\" <br>\n",
    "Population III z\\~ 0     \"metalllose Sterne\" -> altere Sterne, die entstanden sind, als es noch kein Eisen gab <br>"
   ]
  },
  {
   "cell_type": "code",
   "execution_count": null,
   "id": "339fd09d-b98a-4913-8a2d-e5cc3705cbe1",
   "metadata": {},
   "outputs": [],
   "source": []
  }
 ],
 "metadata": {
  "kernelspec": {
   "display_name": "Python 3 (ipykernel)",
   "language": "python",
   "name": "python3"
  },
  "language_info": {
   "codemirror_mode": {
    "name": "ipython",
    "version": 3
   },
   "file_extension": ".py",
   "mimetype": "text/x-python",
   "name": "python",
   "nbconvert_exporter": "python",
   "pygments_lexer": "ipython3",
   "version": "3.10.10"
  }
 },
 "nbformat": 4,
 "nbformat_minor": 5
}
