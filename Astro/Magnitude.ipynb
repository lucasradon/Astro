{
 "cells": [
  {
   "cell_type": "code",
   "execution_count": 4,
   "id": "7964555e-fc9e-4795-8253-5fee01d8573a",
   "metadata": {},
   "outputs": [],
   "source": [
    "import math;\n",
    "pi = math.pi;\n",
    "L_sun = float(3.8*10**26)   # W                       # Luminosität der Sonne\n",
    "M_sun = 2 * 10**30          # kg                      # Masse der Sonne\n",
    "M_mar    = 6.4 * 10**23     # kg                      # Masse des Mars\n",
    "M_earth  = 5.972 *10**24    # kg                      # Masse der Erde\n",
    "R_mar    = 3386000          # m                       # Radius des Mars\n",
    "R_sun    = 696340000        # m                       # Radius der Sonne\n",
    "R_earth  = 6370000          # m                       # Radius der Erde\n",
    "m_H      = 1.66 * 10**-27   # kg                      # Masse eines Protons\n",
    "G        = 6.67 * 10**-11   # m^3 / (kg * s^2)        # Gravitationskonstante\n",
    "AU       = 1.5 * 10**11     # m   = 150000000 km      # Astronomische Einheit\n",
    "c        = 300000           # km/s = 3 * 10^8 m/s     # Lichtgeschwindigkeit\n",
    "sigma_SB = 5.7 * 10**-8     # W / (m^2 K^4)           # Stefan-Boltzmann-Konstante"
   ]
  },
  {
   "cell_type": "markdown",
   "id": "b5755d47-55e0-41d7-a81c-bdbafe238385",
   "metadata": {},
   "source": [
    "F(d) = L / (4\\*pi\\*d^2)\n",
    "\n",
    "F = Fluss\n",
    "L = Luminosität\n",
    "\n",
    "F(d_1)/F(d_2) = (L / (4\\*pi\\*d_1^2)) / (L / (4\\*pi\\*d_2^2)) = d_2^2 / d_1^2\n",
    "\n",
    "F_B / F_A = 100"
   ]
  },
  {
   "cell_type": "markdown",
   "id": "8c9165df-1806-48e0-8749-84349a21804a",
   "metadata": {},
   "source": [
    "delta m = m_A - m_B = 2.5 log(F_B/F_A)\n",
    "\n",
    "m_A = Magnitude Stern A\n",
    "m_B = Magnitude Stern B"
   ]
  },
  {
   "cell_type": "markdown",
   "id": "a48c5c21-1116-408f-bace-e694f6101c5d",
   "metadata": {},
   "source": [
    "### Aufgabe\n",
    "Zwei Sterne (A, B) mit gleicher Luminosität, aber d_A = 2 d_B (d Entfernung zur Erde). Wie verhalten sich die Magnituden?"
   ]
  },
  {
   "cell_type": "code",
   "execution_count": 5,
   "id": "9f912f8a-66df-49bb-950c-44f85297575c",
   "metadata": {
    "tags": []
   },
   "outputs": [],
   "source": [
    "# Setze zur Verwendung der Funktion einen der Abstände auf 1 und gebe den anderen in\n",
    "# Relation dazu an. Für die Aufgabe also bspw. d_B = 1 und entsprechend d_A = 2 d_B = 2.\n",
    "\n",
    "def magnituden_relation(d_A, d_B):\n",
    "    Fluss = (d_B)**2 / (d_A)**2\n",
    "    delta_m = 2.5*math.log10(Fluss)\n",
    "    print('F_B/F_A = d_B^2 / d_A^2 = {}^2/{}^2 = {}'.format(d_B,d_A,Fluss))\n",
    "    print('m_B - m_A = 2.5 * log(F_A/F_B) = 2.5 log({}) ≈ {}'.format(Fluss,delta_m))\n",
    "    print('<-> m_A = m_B - ({})'.format(delta_m))"
   ]
  },
  {
   "cell_type": "code",
   "execution_count": 6,
   "id": "a72e7314-8367-44bc-b109-f86bf9db4265",
   "metadata": {
    "tags": []
   },
   "outputs": [
    {
     "name": "stdout",
     "output_type": "stream",
     "text": [
      "F_B/F_A = d_B^2 / d_A^2 = 1^2/2^2 = 0.25\n",
      "m_B - m_A = 2.5 * log(F_A/F_B) = 2.5 log(0.25) ≈ -1.505149978319906\n",
      "<-> m_A = m_B - (-1.505149978319906)\n"
     ]
    }
   ],
   "source": [
    "magnituden_relation(2,1)"
   ]
  },
  {
   "cell_type": "markdown",
   "id": "54b2258a-0b7b-45eb-a5fd-71cd37c9d611",
   "metadata": {},
   "source": [
    "### Aufgabe\n",
    "Zwei Sterne m_A = 4 und m_B = 6: Was ist die kombinierte Magnitude m_x?"
   ]
  },
  {
   "cell_type": "code",
   "execution_count": 7,
   "id": "77a60d6e-12b1-4e6b-a88e-0078097bba2d",
   "metadata": {
    "tags": []
   },
   "outputs": [],
   "source": [
    "def kombinierte_magnitude(m_A,m_B):\n",
    "    differenz = m_A - m_B\n",
    "    Fluss = 10 ** (differenz/2.5)\n",
    "    AminusX = 2.5 * math.log10(1+Fluss)\n",
    "    m_x = m_A - AminusX\n",
    "    print('m_A - m_B = {} - {} = {} = 2.5 * log(F_B/F_A)'.format(m_A,m_B,differenz))\n",
    "    print('<-> F_B/F_A = 10 ^({}/2.5) = {}'.format(differenz,Fluss))\n",
    "    print('m_A - m_x = 2.5*log((F_A + F_B) / F_A) = 2.5*log(1+{}) ≈ {}'.format(Fluss,AminusX))\n",
    "    print('m_x = m_A - {} = {}'.format(AminusX,m_x))"
   ]
  },
  {
   "cell_type": "code",
   "execution_count": 8,
   "id": "62b80cfc-e547-486f-9fc5-7f77f53b0fd9",
   "metadata": {
    "tags": []
   },
   "outputs": [
    {
     "name": "stdout",
     "output_type": "stream",
     "text": [
      "m_A - m_B = 4 - 6 = -2 = 2.5 * log(F_B/F_A)\n",
      "<-> F_B/F_A = 10 ^(-2/2.5) = 0.15848931924611134\n",
      "m_A - m_x = 2.5*log((F_A + F_B) / F_A) = 2.5*log(1+0.15848931924611134) ≈ 0.15973008535844907\n",
      "m_x = m_A - 0.15973008535844907 = 3.840269914641551\n"
     ]
    }
   ],
   "source": [
    "kombinierte_magnitude(4,6)"
   ]
  },
  {
   "cell_type": "markdown",
   "id": "b3c4c45b-8f83-41cb-9a2b-66f852d9d27b",
   "metadata": {},
   "source": [
    "## Absolute Magnitude\n",
    "Die absolute Magnitude (M) ist die Magnitude, die ein Objekt hätte, wenn es bei 10 pc (parsec, Parallaxensekunde) wäre.\\\n",
    "m-M = 2.5 log (F(d=10 pc) / F(d)) = 2.5 log(d^2 / (10 pc)^2) = 5 log (d / 10 pc) = 5 log(d) - 5\\\n",
    "-> Entfernungsmodul\\\n",
    "Mit Verdunklung:\\\n",
    "m_lambda = M_lambda + 5 * log(d) - 5 + A_lambda\\\n",
    "A_lambda > 0 ist die Anzahl der Extinktionsmagnituden\\\n",
    "Ist a_lambda sehr groß, können dahinter liegende Objekte nicht mehr erkannt werden."
   ]
  },
  {
   "cell_type": "markdown",
   "id": "7c066f58-6248-4f20-9c75-8b12631e7f01",
   "metadata": {},
   "source": [
    "### Bogenminute, Bogensekunde & parsec\n",
    "1\" - Bogensekunde\\\n",
    "1' - Bogenminute\\\n",
    "\\\n",
    "1\" = 1'/60 = (1°/60) / 60 = 1° / 3600\\\n",
    "\\\n",
    "d(phi = 1°) = 1 AU / 1\" = 1 pc ≈ 3,26 ly\\\n",
    "1\" entspricht 1 pc\\\n",
    "0,1\" entspricht 10 pc\\\n",
    "\\\n",
    "Sonne: 1 AE = 1 AU = 4.85 * 10^(-6) pc = 1 / (4.85 \\* 10^(-6))\""
   ]
  },
  {
   "cell_type": "markdown",
   "id": "ff17ef72-b67d-467e-ab81-912baa04c074",
   "metadata": {},
   "source": [
    "### Aufgabe\n",
    "Welche absolute Magnitude im sichtbaren Wellenlängenbereich (M_V) hat ein Stern mit scheinbarer Magnitude m_V = 5, der eine Parallaxe von 0.1\" aufweist?"
   ]
  },
  {
   "cell_type": "code",
   "execution_count": 9,
   "id": "f56ecf16-48dd-4c63-8271-c3335ee6fc9d",
   "metadata": {
    "tags": []
   },
   "outputs": [],
   "source": [
    "def absolute_magnitude_bogensekunde(scheinbare_Magnitude, Bogensekunden):\n",
    "    entfernung_pc = 1 / Bogensekunden\n",
    "    # m-M = 5 log (d / 10 pc)\n",
    "    absolute_Magnitude = scheinbare_Magnitude - 5 * math.log10(entfernung_pc/10)\n",
    "    print('1/{}\" = {} pc'.format(Bogensekunden, entfernung_pc))\n",
    "    print('m-M = 5 log (d / 10 pc) ')\n",
    "    print('<-> M = m- 5 log (d / 10 pc) = {} - 5 log ({} pc / 10 pc) = {}'.format(scheinbare_Magnitude, entfernung_pc, absolute_Magnitude))"
   ]
  },
  {
   "cell_type": "code",
   "execution_count": 15,
   "id": "eb646e15-c385-4848-83ea-764fc3b73341",
   "metadata": {
    "tags": []
   },
   "outputs": [
    {
     "name": "stdout",
     "output_type": "stream",
     "text": [
      "1/0.1\" = 10.0 pc\n",
      "m-M = 5 log (d / 10 pc) \n",
      "<-> M = m- 5 log (d / 10 pc) = 5 - 5 log (10.0 pc / 10 pc) = 5.0\n"
     ]
    }
   ],
   "source": [
    "absolute_magnitude_bogensekunde(5,0.1)"
   ]
  },
  {
   "cell_type": "code",
   "execution_count": 13,
   "id": "c1815ef8-e9a7-4e36-afea-b1113880e2dc",
   "metadata": {
    "tags": []
   },
   "outputs": [],
   "source": [
    "def absolute_magnitude_bogenminute(scheinbare_Magnitude, Bogenminuten):\n",
    "    Bogensekunden = Bogenminuten * 60\n",
    "    entfernung_pc = 1 / Bogensekunden\n",
    "    # m-M = 5 log (d / 10 pc)\n",
    "    absolute_Magnitude = scheinbare_Magnitude - 5 * math.log10(entfernung_pc/10)\n",
    "    print('1 / {}\\' = {}\\\"'.format(Bogenminuten, Bogensekunden))\n",
    "    print('1/{}\" = {} pc'.format(Bogensekunden, entfernung_pc))\n",
    "    print('m-M = 5 log (d / 10 pc) ')\n",
    "    print('<-> M = m- 5 log (d / 10 pc) = {} - 5 log ({} pc / 10 pc) = {}'.format(scheinbare_Magnitude, entfernung_pc, absolute_Magnitude))"
   ]
  },
  {
   "cell_type": "code",
   "execution_count": 14,
   "id": "59daeae0-c0d9-434e-94d0-4dd61736fc22",
   "metadata": {
    "tags": []
   },
   "outputs": [
    {
     "name": "stdout",
     "output_type": "stream",
     "text": [
      "1 / 0.0016666666666666668' = 0.1\"\n",
      "1/0.1\" = 10.0 pc\n",
      "m-M = 5 log (d / 10 pc) \n",
      "<-> M = m- 5 log (d / 10 pc) = 5 - 5 log (10.0 pc / 10 pc) = 5.0\n"
     ]
    }
   ],
   "source": [
    "absolute_magnitude_bogenminute(5,0.1/60)"
   ]
  },
  {
   "cell_type": "code",
   "execution_count": null,
   "id": "e743c9f0-94cc-4d32-892e-468285bb1d2b",
   "metadata": {
    "tags": []
   },
   "outputs": [],
   "source": [
    "def scheinbare_magnitude_bogensekunde(absolute_Magnitude, Bogensekunden):\n",
    "    entfernung_pc = 1 / Bogensekunden\n",
    "    # m-M = 5 log (d / 10 pc)\n",
    "    scheinbare_Magnitude = 5 * math.log10(entfernung_pc/10) + absolute_Magnitude\n",
    "    print('1/{}\" = {} pc'.format(Bogensekunden, entfernung_pc))\n",
    "    print('m-M = 5 log (d / 10 pc) ')\n",
    "    print('m = 5 log (d / 10 pc) + M = 5 log ({} pc / 10 pc) + {} = {}'.format(entfernung_pc, absolute_Magnitude, scheinbare_Magnitude))"
   ]
  },
  {
   "cell_type": "code",
   "execution_count": null,
   "id": "bad9c8c0-ccbe-4e04-85e4-9cfd0dea0bfa",
   "metadata": {
    "tags": []
   },
   "outputs": [],
   "source": [
    "scheinbare_magnitude(5, 0.1)"
   ]
  },
  {
   "cell_type": "code",
   "execution_count": null,
   "id": "7db37f9d-0ecb-4d8f-bbfc-3db9c856b38b",
   "metadata": {
    "tags": []
   },
   "outputs": [],
   "source": [
    "def absolute_magnitude_parsec(scheinbare_Magnitude, entfernung_pc):\n",
    "    # m-M = 5 log (d / 10 pc)\n",
    "    absolute_Magnitude = scheinbare_Magnitude - 5 * math.log10(entfernung_pc/10)\n",
    "    print('m-M = 5 log (d / 10 pc) ')\n",
    "    print('<-> M = m- 5 log (d / 10 pc) = {} - 5 log ({} pc / 10 pc) = {}'.format(scheinbare_Magnitude, entfernung_pc, absolute_Magnitude))"
   ]
  },
  {
   "cell_type": "code",
   "execution_count": null,
   "id": "a7b1bfd3-783e-4718-8caa-362adf0334ea",
   "metadata": {
    "tags": []
   },
   "outputs": [],
   "source": [
    "def entfernung(absolute_Magnitude, scheinbare_Magnitude):\n",
    "    # m-M = 5 log (d / 10 pc)\n",
    "    Entfernung_in_pc = 10 * 10 **((scheinbare_Magnitude-absolute_Magnitude)/5)\n",
    "    Entfernung_in_Bogensekunden = 1 / Entfernung_in_pc\n",
    "    print('m-M = 5 log (d / 10 pc) ')\n",
    "    print('d = 10 pc * 10 ^((m-M)/5) = 10 pc * 10 ^(({}-{})/5) = {} pc = {}\"'.format(scheinbare_Magnitude,absolute_Magnitude, Entfernung_in_pc,Entfernung_in_Bogensekunden))"
   ]
  },
  {
   "cell_type": "code",
   "execution_count": null,
   "id": "a8d4b0b3-0071-4586-b863-a8e0f0b5893a",
   "metadata": {
    "tags": []
   },
   "outputs": [],
   "source": [
    "entfernung(5,5)"
   ]
  },
  {
   "cell_type": "code",
   "execution_count": null,
   "id": "ffb88f8d-c8b7-417e-b807-e51f75e15936",
   "metadata": {
    "tags": []
   },
   "outputs": [],
   "source": [
    "absolute_magnitude(0.98,0.013)"
   ]
  },
  {
   "cell_type": "code",
   "execution_count": null,
   "id": "1b3c6236-32fc-4581-ae72-28831a23327b",
   "metadata": {
    "tags": []
   },
   "outputs": [],
   "source": [
    "absolute_magnitude_parsec(-26.7,4.85*10**(-6))"
   ]
  },
  {
   "cell_type": "code",
   "execution_count": null,
   "id": "945b3e26-adff-48b0-ae1f-343156d66db1",
   "metadata": {
    "tags": []
   },
   "outputs": [],
   "source": [
    "entfernung(-5.7,0.4)"
   ]
  },
  {
   "cell_type": "code",
   "execution_count": 11,
   "id": "e8624cec-afb5-4d19-8db4-f3ce2d54eaea",
   "metadata": {
    "tags": []
   },
   "outputs": [
    {
     "name": "stdout",
     "output_type": "stream",
     "text": [
      "m-M = 5 log (d / 10 pc) \n",
      "<-> M = m- 5 log (d / 10 pc) = 11 - 5 log (1.3 pc / 10 pc) = 15.430283238465815\n"
     ]
    }
   ],
   "source": [
    "absolute_magnitude_parsec(11,1.3)"
   ]
  },
  {
   "cell_type": "code",
   "execution_count": null,
   "id": "a5d59878-e8a4-48a4-a216-5f8f27d80c0f",
   "metadata": {},
   "outputs": [],
   "source": []
  }
 ],
 "metadata": {
  "kernelspec": {
   "display_name": "Python 3 (ipykernel)",
   "language": "python",
   "name": "python3"
  },
  "language_info": {
   "codemirror_mode": {
    "name": "ipython",
    "version": 3
   },
   "file_extension": ".py",
   "mimetype": "text/x-python",
   "name": "python",
   "nbconvert_exporter": "python",
   "pygments_lexer": "ipython3",
   "version": "3.10.10"
  }
 },
 "nbformat": 4,
 "nbformat_minor": 5
}
