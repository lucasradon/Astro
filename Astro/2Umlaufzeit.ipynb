{
 "cells": [
  {
   "cell_type": "code",
   "execution_count": 14,
   "id": "e6550cfb-51ad-4560-800c-b6f9867f5d36",
   "metadata": {
    "tags": []
   },
   "outputs": [],
   "source": [
    "import math;\n",
    "#3. Kepler´sche Gesetz \n",
    "# Quadtrate der Umlaufzeit zweier Planeten sind proportional zur \n",
    "# dritten Potenz der großen Halbachsen der Planteten auf ihre Ellipsen\n",
    "# (P1/P2)**2 = (a1/a2)**3\n",
    "# Das 3. Keplersche Gesetze dient also dazu, die (relativen) \n",
    "# Umlaufzeiten der Planeten und die Entfernung zur Sonne zu bestimmen. \n",
    "# Mit Hilfe dieses Gesetzes kann also die Größe unseres Planetensystems \n",
    "# (Entfernung Sonne-Planet) bestimmt werden."
   ]
  },
  {
   "cell_type": "code",
   "execution_count": 9,
   "id": "5d0375a6-0a73-47c2-9a8c-53ed6c90457d",
   "metadata": {
    "tags": []
   },
   "outputs": [
    {
     "name": "stdout",
     "output_type": "stream",
     "text": [
      "11.857824421031035\n"
     ]
    }
   ],
   "source": [
    "# Z.B. Erde/Jupiter (5,2AE) Umlaufzet des Jupiters herausfinden\n",
    "# P1 = 1Jahr (Erde)\n",
    "# a1 = 1 AE  (Abstand ErdeSonne)\n",
    "# a2 = 5,2 AE (Abstand JupitorSonne)\n",
    "# (P1/P2)**2 = (a1/a2)**3\n",
    "# P1**2/P2**2 = a1**3/a2**3  | *P2**2 *a2**3 /a1**3\n",
    "# P2**2 = (P1**2*a2**3)/a1**3 | 2. Wurzel\n",
    "# Da P1 und A1 gleich 1 sind ergibt sich folgende Formel\n",
    "# P2 = (a2**3)**(1/2)\n",
    "print((5.2**3)**(1/2))\n",
    "#Exakt 11 a 315 d ungefähr 12 Jahre"
   ]
  },
  {
   "cell_type": "code",
   "execution_count": 10,
   "id": "0e84441f-1b12-4df5-ba7c-c63529d6c42b",
   "metadata": {
    "tags": []
   },
   "outputs": [
    {
     "name": "stdout",
     "output_type": "stream",
     "text": [
      "1.5232524997793524\n"
     ]
    }
   ],
   "source": [
    "# Abstand Mars herausfinden \n",
    "# Umlaufzeit Mars gegeben 687 Tage = 1,88 irdische Jahre\n",
    "# P1 = 1Jahr (Erde)\n",
    "# a1 = 1 AE  (Abstand ErdeSonne)\n",
    "# P2 = 1,88 Umlaufzeit Mars\n",
    "# ges: a2\n",
    "# (P1/P2)**2 = (a1/a2)**3\n",
    "# P1**2/P2**2 = a1**3/a2**3  | *P2**2 *a2**3 /P1**2\n",
    "# a2**3 = (a1**3*P2**2)/P1**2 | 3. Wurzel\n",
    "# Da P1 und A1 gleich 1 sind ergibt sich folgende Formel\n",
    "# a2 = (P2**2)**(1/3)\n",
    "print((1.88**2)**(1/3))\n",
    "# Exakt 1,52 AE"
   ]
  },
  {
   "cell_type": "code",
   "execution_count": 11,
   "id": "6f792e8e-53b0-491d-8568-af893b8205d6",
   "metadata": {
    "tags": []
   },
   "outputs": [
    {
     "name": "stdout",
     "output_type": "stream",
     "text": [
      "2.8284271247461903\n"
     ]
    }
   ],
   "source": [
    "# Angenommen, die Erde würde auf die doppelte Entfernung um die Sonne gehievt\n",
    "# welche Orbitperiode hätte sie in dem Abstand?\n",
    "# P1 = 1Jahr (Erde)\n",
    "# a1 = 1 AE  (Abstand ErdeSonne)\n",
    "# a2 = 2 AE (neuer Erdabstand)\n",
    "# P2 = (a2**3)**(1/2)\n",
    "print((2**3)**(1/2))"
   ]
  },
  {
   "cell_type": "code",
   "execution_count": 16,
   "id": "4351b912-9641-470b-8f38-77d1e0336b09",
   "metadata": {
    "tags": []
   },
   "outputs": [
    {
     "name": "stdout",
     "output_type": "stream",
     "text": [
      "5.913187211648216\n"
     ]
    }
   ],
   "source": [
    "#Berechnen Sie die Orbitperiode eines Objekts in der Kirkwood \n",
    "#gap bei 3,27 AU. Vergleichen Sie den Wert mit der Orbitperiode \n",
    "#des Jupiters. Was fällt Ihnen auf?\n",
    "print((3.27**3)**(1/2))"
   ]
  },
  {
   "cell_type": "code",
   "execution_count": null,
   "id": "5c5d0986-41e6-4a87-b5de-5ea0f2ea6f1a",
   "metadata": {},
   "outputs": [],
   "source": [
    "# Der Jupiter braucht doppelt so lange um die Sonne,\n",
    "# wie die Asterioden in der Kirkwoodgap bei 3,27 AU"
   ]
  }
 ],
 "metadata": {
  "kernelspec": {
   "display_name": "Python 3 (ipykernel)",
   "language": "python",
   "name": "python3"
  },
  "language_info": {
   "codemirror_mode": {
    "name": "ipython",
    "version": 3
   },
   "file_extension": ".py",
   "mimetype": "text/x-python",
   "name": "python",
   "nbconvert_exporter": "python",
   "pygments_lexer": "ipython3",
   "version": "3.10.10"
  }
 },
 "nbformat": 4,
 "nbformat_minor": 5
}
