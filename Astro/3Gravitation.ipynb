{
 "cells": [
  {
   "cell_type": "code",
   "execution_count": 14,
   "id": "5e902b6a-86e2-4927-ac2d-b406e0be1bdd",
   "metadata": {
    "tags": []
   },
   "outputs": [],
   "source": [
    "import math;\n",
    "pi = math.pi;\n",
    "L_sun = float(3.8*10**26)   # W                       # Luminosität der Sonne\n",
    "M_sun = 2 * 10**30          # kg                      # Masse der Sonne\n",
    "M_mar    = 6.4 * 10**23     # kg                      # Masse des Mars\n",
    "M_earth  = 5.972 *10**24    # kg                      # Masse der Erde\n",
    "R_mar    = 3386             # km                      # Radius des Mars\n",
    "R_sun    = 696340           # km                      # Radius der Sonne\n",
    "R_earth  = 6370             # km                      # Radius der Erde\n",
    "m_H      = 1.66 * 10**-27   # kg                      # Masse eines Protons\n",
    "G        = 6.67 * 10**-11   # m^3 / (kg * s^2)        # Gravitationskonstante\n",
    "AU     = 150000000          # km   = 1.5 * 10^11 m    # Astronomische Einheit\n",
    "c        = 300000           # km/s = 3 * 10^8 m/s     # Lichtgeschwindigkeit\n",
    "sigma_SB = 5.7 * 10**-8     # W / (m^2 K^4)           # Stefan-Boltzmann-Konstante"
   ]
  },
  {
   "cell_type": "markdown",
   "id": "5410b1f2-1da7-49b7-970b-1d2dc1cb3f90",
   "metadata": {
    "tags": []
   },
   "source": [
    "### Aufgabe\n",
    "Berechnen Sie die Oberflächengravitation auf dem Mars (mit Masse M_mar)! Verwenden Sie dafür zu Beginn eine Beziehung zwischen der Gravitationskraft auf eine Testmasse (m) und der Beschleunigung dieser Testmasse (Zweites Newtonsches Gesetz)! Geben Sie Ihr Ergebnis in Einheiten von m/s^2 an! Dem Wievielfachen der Erdbeschleunigung entspricht dieser Wert? (Die separate Herleitung der Erdbeschleunigung ist nicht nötig.\""
   ]
  },
  {
   "cell_type": "code",
   "execution_count": 4,
   "id": "fa7e33ff-c00f-4116-92ff-92bff5050bec",
   "metadata": {
    "tags": []
   },
   "outputs": [],
   "source": [
    "#g=G*M/R^2 Gravitationsformel"
   ]
  },
  {
   "cell_type": "code",
   "execution_count": 10,
   "id": "0453fba5-8c87-4f59-b868-80281d0c8416",
   "metadata": {
    "tags": []
   },
   "outputs": [
    {
     "name": "stdout",
     "output_type": "stream",
     "text": [
      "3.723333178659635\n"
     ]
    }
   ],
   "source": [
    "erg=G*(M_mar/((1000*R_mar)**2))\n",
    "print(erg)"
   ]
  },
  {
   "cell_type": "code",
   "execution_count": 12,
   "id": "3dd7eb82-f187-400b-987c-71f51f3f7698",
   "metadata": {
    "tags": []
   },
   "outputs": [
    {
     "name": "stdout",
     "output_type": "stream",
     "text": [
      "2.6370967741935485\n"
     ]
    }
   ],
   "source": [
    "print(9.81/3.72)"
   ]
  },
  {
   "cell_type": "code",
   "execution_count": 13,
   "id": "1b256c85-5dd1-465a-b85d-a201d2134e25",
   "metadata": {
    "tags": []
   },
   "outputs": [
    {
     "name": "stdout",
     "output_type": "stream",
     "text": [
      "3.7233331786596353\n"
     ]
    }
   ],
   "source": [
    "m=0\n",
    "g=G/((1000*R_mar)**2)*(M_mar+m)\n",
    "print(g)"
   ]
  },
  {
   "cell_type": "code",
   "execution_count": null,
   "id": "11dcb5be-e207-479a-a7e7-87d22f518f9c",
   "metadata": {},
   "outputs": [],
   "source": [
    "#Erdbeschleunigung\n",
    "#g=G*M/R^2 Gravitationsformel"
   ]
  },
  {
   "cell_type": "code",
   "execution_count": 15,
   "id": "8a1bc273-aed8-40a3-8dd8-6ea9a7179d25",
   "metadata": {
    "tags": []
   },
   "outputs": [
    {
     "name": "stdout",
     "output_type": "stream",
     "text": [
      "275.1142862898279\n"
     ]
    }
   ],
   "source": [
    "# Berechnen Sie die Oberflächengravitation auf der Sonne!\n",
    "g=G*(M_sun/(1000*R_sun)**2)\n",
    "print(g)"
   ]
  },
  {
   "cell_type": "code",
   "execution_count": 11,
   "id": "3b4363c9-5af4-4ac5-8c8d-8362b1fa5380",
   "metadata": {
    "tags": []
   },
   "outputs": [
    {
     "name": "stdout",
     "output_type": "stream",
     "text": [
      "9.816728237001842\n"
     ]
    }
   ],
   "source": [
    "g=G*(M_earth/(1000*R_earth)**2)\n",
    "print(g)"
   ]
  },
  {
   "cell_type": "code",
   "execution_count": null,
   "id": "0c1541b1-1a5b-4b78-a1d7-24da5e0fce36",
   "metadata": {},
   "outputs": [],
   "source": [
    "def gravitation(masse, radius):\n",
    "    g = G * (masse / radius**2)\n",
    "    print('{} * ({} / ({})^2) = {}'.format(G,masse,radius,g))"
   ]
  }
 ],
 "metadata": {
  "kernelspec": {
   "display_name": "Python 3 (ipykernel)",
   "language": "python",
   "name": "python3"
  },
  "language_info": {
   "codemirror_mode": {
    "name": "ipython",
    "version": 3
   },
   "file_extension": ".py",
   "mimetype": "text/x-python",
   "name": "python",
   "nbconvert_exporter": "python",
   "pygments_lexer": "ipython3",
   "version": "3.10.10"
  }
 },
 "nbformat": 4,
 "nbformat_minor": 5
}
