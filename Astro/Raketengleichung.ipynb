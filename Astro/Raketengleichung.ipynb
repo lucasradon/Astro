{
 "cells": [
  {
   "cell_type": "code",
   "execution_count": 1,
   "id": "bb1a1b22-7772-4e6e-8063-7c28b2569bcf",
   "metadata": {
    "tags": []
   },
   "outputs": [],
   "source": [
    "import math;\n",
    "pi = math.pi;\n",
    "L_sun = float(3.8*10**26)   # W                       # Luminosität der Sonne\n",
    "M_sun = 2 * 10**30          # kg                      # Masse der Sonne\n",
    "M_mar    = 6.4 * 10**23     # kg                      # Masse des Mars\n",
    "M_earth  = 5.972 *10**24    # kg                      # Masse der Erde\n",
    "R_mar    = 3386000          # m                       # Radius des Mars\n",
    "R_sun    = 696340000        # m                       # Radius der Sonne\n",
    "R_earth  = 6370000          # m                       # Radius der Erde\n",
    "m_H      = 1.66 * 10**-27   # kg                      # Masse eines Protons\n",
    "G        = 6.67 * 10**-11   # m^3 / (kg * s^2)        # Gravitationskonstante\n",
    "AU       = 1.5 * 10**11     # m   = 150000000 km      # Astronomische Einheit\n",
    "c        = 300000           # km/s = 3 * 10^8 m/s     # Lichtgeschwindigkeit\n",
    "sigma_SB = 5.7 * 10**-8     # W / (m^2 K^4)           # Stefan-Boltzmann-Konstante"
   ]
  },
  {
   "cell_type": "markdown",
   "id": "1b815b7e-a34a-48b7-b620-0c6fcaae28bb",
   "metadata": {},
   "source": [
    "#### Tsiolkovskysche Raketengleichung\n",
    "delta v = v_e * ln(m_i/m_f)\n",
    "\n",
    "delta v = maximaler Geschwindigkeitsgewinn\\\n",
    "v_e = Trebstoffaustrittsgeschwindigkeit\\\n",
    "m_i = Anfangsmasse der Rakete mit Treibstoff\\\n",
    "m_f = finale Masse der Rakete ohne Treibstoff"
   ]
  },
  {
   "cell_type": "markdown",
   "id": "c9e389a0-c4dd-47b6-961b-a2a0e196f451",
   "metadata": {},
   "source": [
    "### Aufgabe\n",
    "Wie viel höher muss die Masse der Rakete beim Start als am Ende der Beschleunigung sein, wenn der Geschwindigkeitsgewinn doppelt so hoch sein soll wie die Austrittgeschwindigkeit des Treibstoffs? Notieren Sie auch die Rechenschritte, nicht nur das Ergebnis! Tipp: ln(e^2) = ln(2.7^2) = 2."
   ]
  },
  {
   "cell_type": "code",
   "execution_count": 10,
   "id": "924ee10a-4098-4723-869d-3848197327ed",
   "metadata": {
    "tags": []
   },
   "outputs": [],
   "source": [
    "def raketengleichung_anfangsmasse_relation(geschwindigkeitsgewinn):\n",
    "    print('delta v = {} v_e = v_e * ln(m_i/m_f)'.format(geschwindigkeitsgewinn))\n",
    "    print('<-> {} = ln(m_i/m_f)'.format(geschwindigkeitsgewinn))\n",
    "    print('<-> e^{} = m_i/m_f'.format(geschwindigkeitsgewinn))\n",
    "    print('<-> m_i = e^{} * m_f ≈ {} m_f'.format(geschwindigkeitsgewinn, math.e**geschwindigkeitsgewinn))"
   ]
  },
  {
   "cell_type": "code",
   "execution_count": 11,
   "id": "3c2f59f5-dbcf-48ee-94e9-315d8df4b66c",
   "metadata": {
    "tags": []
   },
   "outputs": [
    {
     "name": "stdout",
     "output_type": "stream",
     "text": [
      "delta v = 2 v_e = v_e * ln(m_i/m_f)\n",
      "<-> 2 = ln(m_i/m_f)\n",
      "<-> e^2 = m_i/m_f\n",
      "<-> m_i = e^2 * m_f ≈ 7.3890560989306495 m_f\n"
     ]
    }
   ],
   "source": [
    "raketengleichung_anfangsmasse_relation(2)"
   ]
  },
  {
   "cell_type": "code",
   "execution_count": 9,
   "id": "e281e48b-89fa-4a4d-8a89-489b293417f1",
   "metadata": {
    "tags": []
   },
   "outputs": [],
   "source": [
    "def raketengleichung_geschwindigkeitsgewinn(v_e,m_i,m_f):\n",
    "    delta_v = v_e * ln(m_i/m_f)\n",
    "    print('delta v = v_e * ln(m_i/m_f)')\n",
    "    print('delta v = {} * ln({}/{}) = {}'.format(v_e,m_i,m_f,delta_v))"
   ]
  },
  {
   "cell_type": "code",
   "execution_count": 12,
   "id": "d4f573ab-af48-40c6-9116-303992694e16",
   "metadata": {
    "tags": []
   },
   "outputs": [],
   "source": [
    "def raketengleichung_anfangsmasse(delta_v,v_e,m_f):\n",
    "    v_e = delta_v / (ln(m_i/m_f))\n",
    "    print('delta v = v_e * ln(m_i/m_f)')\n",
    "    print('<-> v_e = delta_v / (ln(m_i/m_f)) = {} m/s / (ln({} kg/{} kg))'.format(delta_v,m_i,m_f))"
   ]
  },
  {
   "cell_type": "code",
   "execution_count": null,
   "id": "3c396bb6-ffe7-4c95-a49e-1f0e991265cd",
   "metadata": {},
   "outputs": [],
   "source": []
  }
 ],
 "metadata": {
  "kernelspec": {
   "display_name": "Python 3 (ipykernel)",
   "language": "python",
   "name": "python3"
  },
  "language_info": {
   "codemirror_mode": {
    "name": "ipython",
    "version": 3
   },
   "file_extension": ".py",
   "mimetype": "text/x-python",
   "name": "python",
   "nbconvert_exporter": "python",
   "pygments_lexer": "ipython3",
   "version": "3.10.10"
  }
 },
 "nbformat": 4,
 "nbformat_minor": 5
}
