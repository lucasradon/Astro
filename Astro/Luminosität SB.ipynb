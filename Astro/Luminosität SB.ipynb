{
 "cells": [
  {
   "cell_type": "code",
   "execution_count": 35,
   "id": "5e902b6a-86e2-4927-ac2d-b406e0be1bdd",
   "metadata": {
    "tags": []
   },
   "outputs": [],
   "source": [
    "import math;\n",
    "pi = math.pi;\n",
    "L_sun = float(3.8*10**26)   # W                       # Luminosität der Sonne\n",
    "M_sun = 2 * 10**30          # kg                      # Masse der Sonne\n",
    "M_mar    = 6.4 * 10**23     # kg                      # Masse des Mars\n",
    "R_mar    = 3386             # km                      # Radius des Mars\n",
    "R_sun    = 696340          # km                      # Radius der Sonne\n",
    "m_H      = 1.66 * 10**-27 # kg                      # Masse eines Protons\n",
    "G        = 6.67 * 10**-11 # m^3 / (kg * s^2)        # Gravitationskonstante\n",
    "AU     = 150000000          # km   = 1.5 * 10^11 m    # Astronomische Einheit\n",
    "c        = 300000           # km/s = 3 * 10^8 m/s     # Lichtgeschwindigkeit\n",
    "sigma_SB = 5.7 * 10**-8    # W / (m^2 K^4)           # Stefan-Boltzmann-Konstante"
   ]
  },
  {
   "cell_type": "code",
   "execution_count": 37,
   "id": "d1540d15-08b5-4ec5-8d8e-2403855f7324",
   "metadata": {
    "tags": []
   },
   "outputs": [
    {
     "name": "stdout",
     "output_type": "stream",
     "text": [
      "57512.738552422685\n"
     ]
    }
   ],
   "source": [
    "# Berechnen Sie für einen Weißen Zwerg mit L = L⊙ und R = R⊙/100 die Effektivtemperatur!\n",
    "erg=(L_sun/(4*pi*(R_sun*1000/100)**2*sigma_SB))**(1/4)\n",
    "#Mal 1000 weil km in m, weil Sigma quadratmeter hat\n",
    "print(erg)"
   ]
  },
  {
   "cell_type": "code",
   "execution_count": null,
   "id": "391b7b23-cd58-4b2b-aca4-338275d423ab",
   "metadata": {},
   "outputs": [],
   "source": []
  }
 ],
 "metadata": {
  "kernelspec": {
   "display_name": "Python 3 (ipykernel)",
   "language": "python",
   "name": "python3"
  },
  "language_info": {
   "codemirror_mode": {
    "name": "ipython",
    "version": 3
   },
   "file_extension": ".py",
   "mimetype": "text/x-python",
   "name": "python",
   "nbconvert_exporter": "python",
   "pygments_lexer": "ipython3",
   "version": "3.10.10"
  }
 },
 "nbformat": 4,
 "nbformat_minor": 5
}
