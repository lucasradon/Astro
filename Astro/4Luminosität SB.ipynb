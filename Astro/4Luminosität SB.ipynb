{
 "cells": [
  {
   "cell_type": "code",
   "execution_count": 5,
   "id": "5e902b6a-86e2-4927-ac2d-b406e0be1bdd",
   "metadata": {
    "tags": []
   },
   "outputs": [],
   "source": [
    "import math;\n",
    "pi = math.pi;\n",
    "L_sun = float(3.8*10**26)   # W                       # Luminosität der Sonne\n",
    "M_sun = 2 * 10**30          # kg                      # Masse der Sonne\n",
    "M_mar    = 6.4 * 10**23     # kg                      # Masse des Mars\n",
    "R_mar    = 3386             # km                      # Radius des Mars\n",
    "R_sun    = 696340          # km                      # Radius der Sonne\n",
    "m_H      = 1.66 * 10**-27 # kg                      # Masse eines Protons\n",
    "G        = 6.67 * 10**-11 # m^3 / (kg * s^2)        # Gravitationskonstante\n",
    "AU       = 1.5 * 10**11     # m = 150000000 km        # Astronomische Einheit\n",
    "AU2     = 150000000          # km   = 1.5 * 10^11 m    # Astronomische Einheit\n",
    "c        = 300000           # km/s = 3 * 10^8 m/s     # Lichtgeschwindigkeit\n",
    "sigma_SB = 5.7 * 10**-8    # W / (m^2 K^4)           # Stefan-Boltzmann-Konstante\n",
    "#Test"
   ]
  },
  {
   "cell_type": "code",
   "execution_count": 5,
   "id": "d1540d15-08b5-4ec5-8d8e-2403855f7324",
   "metadata": {
    "tags": []
   },
   "outputs": [
    {
     "name": "stdout",
     "output_type": "stream",
     "text": [
      "57512.738552422685\n"
     ]
    }
   ],
   "source": [
    "# Berechnen Sie für einen Weißen Zwerg mit L = L⊙ und R = R⊙/100 die Effektivtemperatur!\n",
    "erg=(L_sun/(4*pi*(R_sun*1000/100)**2*sigma_SB))**(1/4)\n",
    "#Mal 1000 weil km in m, weil Sigma quadratmeter hat\n",
    "print(erg)"
   ]
  },
  {
   "cell_type": "code",
   "execution_count": 9,
   "id": "391b7b23-cd58-4b2b-aca4-338275d423ab",
   "metadata": {
    "tags": []
   },
   "outputs": [],
   "source": [
    "def effektivtemperatur(luminosität, radius):\n",
    "    T_eff = (luminosität / (4*pi*radius**2*sigma_SB)) ** (1/4)\n",
    "    print('({} / (4*pi*{}^2*sigma_SB)) ^ (1/4) ='.format(luminosität, radius), T_eff)"
   ]
  },
  {
   "cell_type": "code",
   "execution_count": 11,
   "id": "19d36d1d-5f1f-4e8e-af59-b250c4df4860",
   "metadata": {
    "tags": []
   },
   "outputs": [
    {
     "name": "stdout",
     "output_type": "stream",
     "text": [
      "(3.8e+26 / (4*pi*6963400.0^2*sigma_SB)) ^ (1/4) = 57512.738552422685\n"
     ]
    }
   ],
   "source": [
    "effektivtemperatur(L_sun, (R_sun*1000/100))"
   ]
  },
  {
   "cell_type": "markdown",
   "id": "c0e9ba3f-b200-4c2b-bfdb-fc8a1a58ef78",
   "metadata": {},
   "source": [
    "<h3>Leistung auf der Erde</h3>\n",
    "Wie viel Leistung pro Fläche kommt auf der Erde an? <br>\n",
    "Fluss berechnen <br>\n",
    "F_earth = L_sun/Kugeloberfläche <br>\n",
    "F_earth = L_sun/4*pi*AU**2 <br>"
   ]
  },
  {
   "cell_type": "code",
   "execution_count": 10,
   "id": "0b5c353c-12f9-4f44-8755-46f931c309fd",
   "metadata": {
    "tags": []
   },
   "outputs": [
    {
     "name": "stdout",
     "output_type": "stream",
     "text": [
      "F_earth =  1343.98 W/m^2\n"
     ]
    }
   ],
   "source": [
    "print(\"F_earth = \",round(L_sun/(4*pi*AU**2),2), \"W/m^2\")"
   ]
  },
  {
   "cell_type": "markdown",
   "id": "14e43183-dd09-4f08-bc05-3ce378c17139",
   "metadata": {},
   "source": [
    "30% der Einstrahlung reflektiert<br>\n",
    "70% der Einstrahlung absorbiert Erde<br>\n",
    "=> Erde dreht sich <br>\n",
    "1368 x 0.7 x 0.25 (Tag/Nacht gemittelt) <br>\n",
    "= 239 W/m^2"
   ]
  },
  {
   "cell_type": "code",
   "execution_count": 16,
   "id": "b9ef592d-218d-44f5-b0fa-0911590e3b14",
   "metadata": {
    "tags": []
   },
   "outputs": [],
   "source": [
    "def effektivtemperatur_fluss(fluss):\n",
    "    T_eff = (fluss / sigma_SB) ** (1/4) - 273.15\n",
    "    print('({} / sigma_SB) ^ (1/4) - 273.15 ='.format(fluss), round(T_eff,2), \"°C\")"
   ]
  },
  {
   "cell_type": "code",
   "execution_count": 17,
   "id": "17cb00b4-51f9-40d3-a655-4c82a76227d4",
   "metadata": {
    "tags": []
   },
   "outputs": [
    {
     "name": "stdout",
     "output_type": "stream",
     "text": [
      "(239 / sigma_SB) ^ (1/4) - 273.15 = -18.68 °C\n"
     ]
    }
   ],
   "source": [
    "effektivtemperatur_fluss(239)"
   ]
  },
  {
   "cell_type": "markdown",
   "id": "199b9a69-9a6c-4dba-b649-6fea7503c4a9",
   "metadata": {},
   "source": [
    "Erdtemeperatur ohne Treibhauseffekt (+33°C) <br>\n",
    "=> 15°C"
   ]
  },
  {
   "cell_type": "code",
   "execution_count": null,
   "id": "ada6d455-428b-47dc-9075-48af598614ae",
   "metadata": {},
   "outputs": [],
   "source": []
  }
 ],
 "metadata": {
  "kernelspec": {
   "display_name": "Python 3 (ipykernel)",
   "language": "python",
   "name": "python3"
  },
  "language_info": {
   "codemirror_mode": {
    "name": "ipython",
    "version": 3
   },
   "file_extension": ".py",
   "mimetype": "text/x-python",
   "name": "python",
   "nbconvert_exporter": "python",
   "pygments_lexer": "ipython3",
   "version": "3.10.10"
  }
 },
 "nbformat": 4,
 "nbformat_minor": 5
}
