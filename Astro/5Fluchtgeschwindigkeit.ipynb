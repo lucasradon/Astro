{
 "cells": [
  {
   "cell_type": "code",
   "execution_count": 30,
   "id": "01d0d5b4-05b3-4ccd-a3cb-1f6c7ed17afb",
   "metadata": {},
   "outputs": [],
   "source": [
    "import math;\n",
    "pi = math.pi;\n",
    "L_sun = float(3.8*10**26)   # W                       # Luminosität der Sonne\n",
    "M_sun = 2 * 10**30          # kg                      # Masse der Sonne\n",
    "M_mar    = 6.4 * 10**23     # kg                      # Masse des Mars\n",
    "M_earth  = 5.972 *10**24    # kg                      # Masse der Erde\n",
    "R_mar    = 3386000          # m                       # Radius des Mars\n",
    "R_sun    = 696340000        # m                       # Radius der Sonne\n",
    "R_earth  = 6370000          # m                       # Radius der Erde\n",
    "m_H      = 1.66 * 10**-27   # kg                      # Masse eines Protons\n",
    "G        = 6.67 * 10**-11   # m^3 / (kg * s^2)        # Gravitationskonstante\n",
    "AU       = 1.5 * 10**11     # m   = 150000000 km      # Astronomische Einheit\n",
    "AU2      = 150 * 10**6      # km\n",
    "c        = 300000           # km/s = 3 * 10^8 m/s     # Lichtgeschwindigkeit\n",
    "sigma_SB = 5.7 * 10**-8     # W / (m^2 K^4)           # Stefan-Boltzmann-Konstante"
   ]
  },
  {
   "cell_type": "markdown",
   "id": "e179b383-b9da-435f-88c0-56b54c1c8302",
   "metadata": {},
   "source": [
    "<h3>Fluchtgeschwindigkeit</h3>\n",
    "Geschwindigkeit die ein Körper erreichen muss, um den geostationären Orbit zu erreichen"
   ]
  },
  {
   "cell_type": "code",
   "execution_count": 2,
   "id": "b8f9524e-a887-498e-ab03-848e8dc52b9e",
   "metadata": {
    "tags": []
   },
   "outputs": [
    {
     "name": "stdout",
     "output_type": "stream",
     "text": [
      "11183.2516621689\n",
      "11.1832516621689\n"
     ]
    }
   ],
   "source": [
    "# v0 >= (2*G*M/R)**(1/2)\n",
    "# Fluchtgeschwindigkeit Erde\n",
    "v0 = (2*G*M_earth/R_earth)**(1/2)\n",
    "#m/s\n",
    "print(v0)\n",
    "v0=v0/1000\n",
    "print(v0)"
   ]
  },
  {
   "cell_type": "code",
   "execution_count": 11,
   "id": "564a29b9-55b6-4763-a677-4b5416f7e4c5",
   "metadata": {},
   "outputs": [],
   "source": [
    "def fluchtgeschwindigkeit(masse, radius):\n",
    "    v0 = (2*G*masse / radius) ** (1/2)\n",
    "    print('(2*G*{} / {}) ^ (1/2) ='.format(masse, radius), v0, \" m/s\")\n",
    "    print('(2*G*{} / {}/1000) ^ (1/2) ='.format(masse, radius), v0/1000, \" km/s\")"
   ]
  },
  {
   "cell_type": "code",
   "execution_count": 12,
   "id": "07af6038-1dbe-4ba6-8185-d715e3dafd71",
   "metadata": {},
   "outputs": [
    {
     "name": "stdout",
     "output_type": "stream",
     "text": [
      "(2*G*5.972e+24 / 6370000) ^ (1/2) = 11183.2516621689  m/s\n",
      "(2*G*5.972e+24 / 6370000) ^ (1/2) = 11.1832516621689  km/s\n"
     ]
    }
   ],
   "source": [
    "fluchtgeschwindigkeit(M_earth, R_earth)"
   ]
  },
  {
   "cell_type": "markdown",
   "id": "a045f92c-aef5-40c1-b9e0-f9bedf72cc87",
   "metadata": {},
   "source": [
    "<h3>Orbitgeschwindigkeit</h3>\n",
    "Geschwindigkeit im Kreisfreien Orbit\n",
    "z.B. Geschwindigkeit mit der sich die Erde um die Sonne bewegt"
   ]
  },
  {
   "cell_type": "code",
   "execution_count": 35,
   "id": "d0589bee-52e1-466d-bd5a-e31655db9766",
   "metadata": {
    "tags": []
   },
   "outputs": [],
   "source": [
    "def orbitgeschwindigkeit(masse, entfernung): #Entfernung in AU z.B 1,5\n",
    "    entfernung = entfernung*(AU)\n",
    "    v = (G*masse / (entfernung)) ** (1/2)\n",
    "    print('(G*{} / {}) ^ (1/2) ='.format(masse, entfernung), round(v/1000,2), \" km/s\")"
   ]
  },
  {
   "cell_type": "code",
   "execution_count": 36,
   "id": "68d96d34-c48b-4380-9b7b-0e6db3cf5abb",
   "metadata": {
    "tags": []
   },
   "outputs": [
    {
     "name": "stdout",
     "output_type": "stream",
     "text": [
      "(G*2000000000000000000000000000000 / 150000000000.0) ^ (1/2) = 29.82  km/s\n"
     ]
    }
   ],
   "source": [
    "orbitgeschwindigkeit(M_sun,1) #1 weil Erde genau eine AU entfernt ist"
   ]
  },
  {
   "cell_type": "code",
   "execution_count": null,
   "id": "3b54a720-e0e5-43c4-9d3d-c4ecf51d8325",
   "metadata": {},
   "outputs": [],
   "source": []
  }
 ],
 "metadata": {
  "kernelspec": {
   "display_name": "Python 3 (ipykernel)",
   "language": "python",
   "name": "python3"
  },
  "language_info": {
   "codemirror_mode": {
    "name": "ipython",
    "version": 3
   },
   "file_extension": ".py",
   "mimetype": "text/x-python",
   "name": "python",
   "nbconvert_exporter": "python",
   "pygments_lexer": "ipython3",
   "version": "3.10.10"
  }
 },
 "nbformat": 4,
 "nbformat_minor": 5
}
